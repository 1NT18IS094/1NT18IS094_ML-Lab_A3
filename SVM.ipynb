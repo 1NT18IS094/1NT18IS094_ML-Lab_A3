{
  "nbformat": 4,
  "nbformat_minor": 0,
  "metadata": {
    "colab": {
      "name": "SVM.ipynb",
      "provenance": []
    },
    "kernelspec": {
      "name": "python3",
      "display_name": "Python 3"
    },
    "language_info": {
      "name": "python"
    }
  },
  "cells": [
    {
      "cell_type": "code",
      "execution_count": 1,
      "metadata": {
        "colab": {
          "base_uri": "https://localhost:8080/"
        },
        "id": "93V50HpFTFDR",
        "outputId": "92964b58-b75b-4181-bfef-ef4ccf96373d"
      },
      "outputs": [
        {
          "output_type": "stream",
          "name": "stdout",
          "text": [
            "dataset       Id       RI     Na    Mg    Al    Si      K    Ca    Ba   Fe  Type\n",
            "0      1  1.52101  13.64  4.49  1.10  71.78  0.06  8.75  0.00  0.0     1\n",
            "1      2  1.51761  13.89  3.60  1.36  72.73  0.48  7.83  0.00  0.0     1\n",
            "2      3  1.51618  13.53  3.55  1.54  72.99  0.39  7.78  0.00  0.0     1\n",
            "3      4  1.51766  13.21  3.69  1.29  72.61  0.57  8.22  0.00  0.0     1\n",
            "4      5  1.51742  13.27  3.62  1.24  73.08  0.55  8.07  0.00  0.0     1\n",
            "..   ...      ...    ...   ...   ...    ...   ...   ...   ...  ...   ...\n",
            "209  210  1.51623  14.14  0.00  2.88  72.61  0.08  9.18  1.06  0.0     7\n",
            "210  211  1.51685  14.92  0.00  1.99  73.06  0.00  8.40  1.59  0.0     7\n",
            "211  212  1.52065  14.36  0.00  2.02  73.42  0.00  8.44  1.64  0.0     7\n",
            "212  213  1.51651  14.38  0.00  1.94  73.61  0.00  8.48  1.57  0.0     7\n",
            "213  214  1.51711  14.23  0.00  2.08  73.36  0.00  8.62  1.67  0.0     7\n",
            "\n",
            "[214 rows x 11 columns]\n",
            "[[-1.72397593  0.87286765  0.28495326 ... -0.35287683 -0.5864509\n",
            "  -0.84827468]\n",
            " [-1.70778837 -0.24933347  0.59181718 ... -0.35287683 -0.5864509\n",
            "  -0.84827468]\n",
            " [-1.6916008  -0.72131806  0.14993314 ... -0.35287683 -0.5864509\n",
            "  -0.84827468]\n",
            " ...\n",
            " [ 1.6916008   0.75404635  1.16872135 ...  2.95320036 -0.5864509\n",
            "   2.01047778]\n",
            " [ 1.70778837 -0.61239854  1.19327046 ...  2.81208731 -0.5864509\n",
            "   2.01047778]\n",
            " [ 1.72397593 -0.41436305  1.00915211 ...  3.01367739 -0.5864509\n",
            "   2.01047778]]\n"
          ]
        }
      ],
      "source": [
        "from sklearn.svm import SVC\n",
        "import numpy as np\n",
        "import pandas as pd\n",
        "from matplotlib import pyplot as plt\n",
        "\n",
        "\n",
        "\n",
        "\n",
        "\n",
        "df=pd.read_csv(\"/content/glass (1).csv\")\n",
        "print(\"dataset\",df)\n",
        "\n",
        "from sklearn.preprocessing import StandardScaler\n",
        "scaler = StandardScaler()\n",
        "print(scaler.fit_transform(df))\n",
        "\n",
        "x=df.drop('Type',axis=1)\n",
        "y=df.Type"
      ]
    },
    {
      "cell_type": "code",
      "source": [
        "from sklearn.model_selection import train_test_split\n",
        "x_train,x_test,y_train,y_test=train_test_split(x,y,test_size=0.3)\n",
        "\n",
        "\n",
        "from sklearn import svm\n",
        "ml=svm.SVC(kernel='linear')\n",
        "ml.fit(x_train,y_train)\n",
        "\n",
        "\n",
        "print(ml.support_vectors_)"
      ],
      "metadata": {
        "colab": {
          "base_uri": "https://localhost:8080/"
        },
        "id": "ff8SS0N0TqGM",
        "outputId": "7776e1c7-67bf-420b-f072-b1b56afaa777"
      },
      "execution_count": 2,
      "outputs": [
        {
          "output_type": "stream",
          "name": "stdout",
          "text": [
            "[[7.00000e+01 1.52300e+00 1.33100e+01 3.58000e+00 8.20000e-01 7.19900e+01\n",
            "  1.20000e-01 1.01700e+01 0.00000e+00 3.00000e-02]\n",
            " [1.46000e+02 1.51839e+00 1.28500e+01 3.67000e+00 1.24000e+00 7.25700e+01\n",
            "  6.20000e-01 8.68000e+00 0.00000e+00 3.50000e-01]\n",
            " [7.20000e+01 1.51848e+00 1.36400e+01 3.87000e+00 1.27000e+00 7.19600e+01\n",
            "  5.40000e-01 8.32000e+00 0.00000e+00 3.20000e-01]\n",
            " [1.63000e+02 1.52211e+00 1.41900e+01 3.78000e+00 9.10000e-01 7.13600e+01\n",
            "  2.30000e-01 9.14000e+00 0.00000e+00 3.70000e-01]\n",
            " [1.47000e+02 1.51769e+00 1.36500e+01 3.66000e+00 1.11000e+00 7.27700e+01\n",
            "  1.10000e-01 8.60000e+00 0.00000e+00 0.00000e+00]\n",
            " [1.75000e+02 1.52058e+00 1.28500e+01 1.61000e+00 2.17000e+00 7.21800e+01\n",
            "  7.60000e-01 9.70000e+00 2.40000e-01 5.10000e-01]\n",
            " [1.65000e+02 1.51915e+00 1.27300e+01 1.85000e+00 1.86000e+00 7.26900e+01\n",
            "  6.00000e-01 1.00900e+01 0.00000e+00 0.00000e+00]\n",
            " [1.76000e+02 1.52119e+00 1.29700e+01 3.30000e-01 1.51000e+00 7.33900e+01\n",
            "  1.30000e-01 1.12700e+01 0.00000e+00 2.80000e-01]\n",
            " [1.64000e+02 1.51514e+00 1.40100e+01 2.68000e+00 3.50000e+00 6.98900e+01\n",
            "  1.68000e+00 5.87000e+00 2.20000e+00 0.00000e+00]\n",
            " [1.84000e+02 1.51969e+00 1.45600e+01 0.00000e+00 5.60000e-01 7.34800e+01\n",
            "  0.00000e+00 1.12200e+01 0.00000e+00 0.00000e+00]\n",
            " [1.81000e+02 1.51299e+00 1.44000e+01 1.74000e+00 1.54000e+00 7.45500e+01\n",
            "  0.00000e+00 7.59000e+00 0.00000e+00 0.00000e+00]\n",
            " [1.77000e+02 1.51905e+00 1.40000e+01 2.39000e+00 1.56000e+00 7.23700e+01\n",
            "  0.00000e+00 9.57000e+00 0.00000e+00 0.00000e+00]\n",
            " [1.87000e+02 1.51838e+00 1.43200e+01 3.26000e+00 2.22000e+00 7.12500e+01\n",
            "  1.46000e+00 5.79000e+00 1.63000e+00 0.00000e+00]\n",
            " [1.88000e+02 1.52315e+00 1.34400e+01 3.34000e+00 1.23000e+00 7.23800e+01\n",
            "  6.00000e-01 8.83000e+00 0.00000e+00 0.00000e+00]]\n"
          ]
        }
      ]
    },
    {
      "cell_type": "code",
      "source": [
        "print(ml.n_support_)"
      ],
      "metadata": {
        "colab": {
          "base_uri": "https://localhost:8080/"
        },
        "id": "HSs3fBIeTvvw",
        "outputId": "29f7a070-d819-44f2-9448-463c6c2950ef"
      },
      "execution_count": 3,
      "outputs": [
        {
          "output_type": "stream",
          "name": "stdout",
          "text": [
            "[1 2 2 4 3 2]\n"
          ]
        }
      ]
    },
    {
      "cell_type": "code",
      "source": [
        "y_pred=ml.predict(x_test)\n",
        "\n",
        "from sklearn.metrics import accuracy_score,confusion_matrix,classification_report\n",
        "print(\"Accuracy Score\",accuracy_score(y_test,y_pred))\n",
        "\n",
        "print(\"Confusion Matrix\",confusion_matrix(y_test,y_pred))\n",
        "\n",
        "print(\"Classification Report\\n\",classification_report(y_test,y_pred))"
      ],
      "metadata": {
        "colab": {
          "base_uri": "https://localhost:8080/"
        },
        "id": "fOdgmm_MTw19",
        "outputId": "e97fea6b-7e49-472e-ed50-59ca6f737cd8"
      },
      "execution_count": 4,
      "outputs": [
        {
          "output_type": "stream",
          "name": "stdout",
          "text": [
            "Accuracy Score 1.0\n",
            "Confusion Matrix [[22  0  0  0  0  0]\n",
            " [ 0 26  0  0  0  0]\n",
            " [ 0  0  5  0  0  0]\n",
            " [ 0  0  0  3  0  0]\n",
            " [ 0  0  0  0  1  0]\n",
            " [ 0  0  0  0  0  8]]\n",
            "Classification Report\n",
            "               precision    recall  f1-score   support\n",
            "\n",
            "           1       1.00      1.00      1.00        22\n",
            "           2       1.00      1.00      1.00        26\n",
            "           3       1.00      1.00      1.00         5\n",
            "           5       1.00      1.00      1.00         3\n",
            "           6       1.00      1.00      1.00         1\n",
            "           7       1.00      1.00      1.00         8\n",
            "\n",
            "    accuracy                           1.00        65\n",
            "   macro avg       1.00      1.00      1.00        65\n",
            "weighted avg       1.00      1.00      1.00        65\n",
            "\n"
          ]
        }
      ]
    },
    {
      "cell_type": "code",
      "source": [
        "model1=SVC(kernel='sigmoid')\n",
        "model2=SVC(kernel='poly')\n",
        "model3=SVC(kernel='rbf')\n",
        "\n",
        "#With Different Kernels\n",
        "\n",
        "model1.fit(x_train,y_train)\n",
        "model2.fit(x_train,y_train)\n",
        "model3.fit(x_train,y_train)"
      ],
      "metadata": {
        "colab": {
          "base_uri": "https://localhost:8080/"
        },
        "id": "0d3aH2evUToR",
        "outputId": "cde69da8-c5f4-4a91-ff03-fd86f7cd9508"
      },
      "execution_count": 5,
      "outputs": [
        {
          "output_type": "execute_result",
          "data": {
            "text/plain": [
              "SVC()"
            ]
          },
          "metadata": {},
          "execution_count": 5
        }
      ]
    },
    {
      "cell_type": "code",
      "source": [
        "ypred1=model1.predict(x_test)\n",
        "ypred2=model2.predict(x_test)\n",
        "ypred3=model3.predict(x_test)\n",
        "\n",
        "print(\"Accuracy Score of kernel 1\",accuracy_score(y_test,ypred1))\n",
        "\n",
        "print(\"Accuracy Score of kernel 2\",accuracy_score(y_test,ypred2))\n",
        "\n",
        "print(\"Accuracy Score of kernel 3\",accuracy_score(y_test,ypred3))"
      ],
      "metadata": {
        "colab": {
          "base_uri": "https://localhost:8080/"
        },
        "id": "5nCfvF8sUdH7",
        "outputId": "36f0001c-dd07-4d36-ed4c-af30ee74b3dd"
      },
      "execution_count": 6,
      "outputs": [
        {
          "output_type": "stream",
          "name": "stdout",
          "text": [
            "Accuracy Score of kernel 1 0.6923076923076923\n",
            "Accuracy Score of kernel 2 0.9384615384615385\n",
            "Accuracy Score of kernel 3 0.8461538461538461\n"
          ]
        }
      ]
    }
  ]
}