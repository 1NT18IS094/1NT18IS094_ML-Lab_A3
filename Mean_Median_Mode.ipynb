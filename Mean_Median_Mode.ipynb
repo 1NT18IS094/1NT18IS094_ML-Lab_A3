{
  "nbformat": 4,
  "nbformat_minor": 0,
  "metadata": {
    "colab": {
      "name": "Mean_Median_Mode.ipynb",
      "provenance": [],
      "collapsed_sections": []
    },
    "kernelspec": {
      "name": "python3",
      "display_name": "Python 3"
    },
    "language_info": {
      "name": "python"
    }
  },
  "cells": [
    {
      "cell_type": "code",
      "execution_count": 1,
      "metadata": {
        "colab": {
          "base_uri": "https://localhost:8080/"
        },
        "id": "mHOU91h_YFOm",
        "outputId": "3ac43dac-978a-4010-a341-2c3b9ad818eb"
      },
      "outputs": [
        {
          "output_type": "stream",
          "name": "stdout",
          "text": [
            "without libraray\n",
            "Mean is 2.375\n",
            "Mode is 3\n",
            "Variance is 1.125\n",
            "S.D is 1.0606601717798212\n",
            "Median is 2.5\n",
            "\n",
            "\n",
            "using library\n",
            "mean  2.375\n",
            "mode 3\n",
            "varience 1.125\n",
            "standard deviation 1.0606601717798212\n",
            "median 2.5\n"
          ]
        }
      ],
      "source": [
        "import math\n",
        "l=[1,2,3,4,1,2,3,3]\n",
        "n=len(l)\n",
        "sum=0\n",
        "\n",
        "#mean\n",
        "for i in l:\n",
        "    sum=sum+i\n",
        "mean=sum/n\n",
        "print(\"without libraray\")\n",
        "print(\"Mean is\",mean)\n",
        "\n",
        "#mode\n",
        "fr=[0]*max(l)\n",
        "for ele in l:\n",
        "    fr[ele-1]+=1\n",
        "m=fr.index(max(fr))+1\n",
        "\n",
        "    \n",
        "print(\"Mode is\",m)\n",
        "   \n",
        "#S.D and variance\n",
        "sum=0\n",
        "for i in l:\n",
        "     sum+=pow((i-mean),2)\n",
        "print(\"Variance is\",sum/(n-1))\n",
        "print(\"S.D is\",math.sqrt(sum/(n-1)))\n",
        "\n",
        "#median\n",
        "l.sort()\n",
        "\n",
        "if(n%2==1):\n",
        "    k=math.floor(n/2)\n",
        "    print(\"Median is\",l[k])\n",
        "else:\n",
        "    m=int(n/2)\n",
        "    a=l[m]+l[m-1]\n",
        "    print(\"Median is\",a/2)\n",
        "\n",
        "\n",
        "import statistics as st\n",
        "l1=[1,2,3,4,1,2,3,3]\n",
        "print(\"\\n\\nusing library\")\n",
        "print(\"mean \",st.mean(l1))\n",
        "print(\"mode\",st.mode(l1))\n",
        "print(\"varience\",st.variance(l1))\n",
        "print(\"standard deviation\",st.stdev(l1))\n",
        "print(\"median\",st.median(l1))"
      ]
    }
  ]
}