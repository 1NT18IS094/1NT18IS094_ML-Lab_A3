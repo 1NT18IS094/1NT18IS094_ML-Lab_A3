{
  "nbformat": 4,
  "nbformat_minor": 0,
  "metadata": {
    "colab": {
      "name": "Standardisation.ipynb",
      "provenance": []
    },
    "kernelspec": {
      "name": "python3",
      "display_name": "Python 3"
    },
    "language_info": {
      "name": "python"
    }
  },
  "cells": [
    {
      "cell_type": "code",
      "execution_count": 1,
      "metadata": {
        "id": "8RzWl8NFbaBS"
      },
      "outputs": [],
      "source": [
        "def find(arr):\n",
        "  sum1=0\n",
        "  arr.sort()\n",
        "  for i in arr:\n",
        "    sum1+=i\n",
        "  mean = sum1/len(arr)\n",
        "\n",
        "  if len(arr)%2 ==0:\n",
        "    median=arr[int(len(arr)/2)-1]+arr[int(len(arr)/2)]\n",
        "  else :\n",
        "    median =arr[int(len(arr)/2)]\n",
        "  f =[0]*max(arr)\n",
        "  for ele in arr:\n",
        "    f[ele-1]+=1\n",
        "  mode = f.index(max(f))+1\n",
        "  print(\"mean:\",mean,\"\\nmedian:\",median,\"\\nmode:\",mode)"
      ]
    },
    {
      "cell_type": "code",
      "source": [
        "arr=[1,4,3,5,4,2,4,4]\n",
        "find(arr)"
      ],
      "metadata": {
        "colab": {
          "base_uri": "https://localhost:8080/"
        },
        "id": "5hw8sK80bjlD",
        "outputId": "1e6980c3-d0a8-44a2-a32d-096fcc5e4420"
      },
      "execution_count": 2,
      "outputs": [
        {
          "output_type": "stream",
          "name": "stdout",
          "text": [
            "mean: 3.375 \n",
            "median: 8 \n",
            "mode: 4\n"
          ]
        }
      ]
    },
    {
      "cell_type": "code",
      "source": [
        "def vaience(l):\n",
        "  sum2=0\n",
        "  j=0\n",
        "  for i in l:\n",
        "    j+=i\n",
        "  mean = j/len(l)\n",
        "  for ele in l:\n",
        "    sum2+=pow((mean-ele),2)\n",
        "  varience = sum2/(len(l)-1)\n",
        "  sd = mt.sqrt(varience)\n",
        "  print(\"varience:\", varience,\"\\nSD:\",sd)"
      ],
      "metadata": {
        "id": "wUGY7hWtbntR"
      },
      "execution_count": 3,
      "outputs": []
    },
    {
      "cell_type": "code",
      "source": [
        "import math as mt\n",
        "l=[2,4,6,8]\n",
        "vaience(l)"
      ],
      "metadata": {
        "colab": {
          "base_uri": "https://localhost:8080/"
        },
        "id": "IBlCk1VmbrFC",
        "outputId": "60531f5b-2682-4022-eb54-8a94b14e357f"
      },
      "execution_count": 4,
      "outputs": [
        {
          "output_type": "stream",
          "name": "stdout",
          "text": [
            "varience: 6.666666666666667 \n",
            "SD: 2.581988897471611\n"
          ]
        }
      ]
    },
    {
      "cell_type": "code",
      "source": [
        "from sklearn.preprocessing import Normalizer\n",
        "l=[[4,1,2,2],[1,3,9,3],[5,7,5,1]]\n",
        "print(Normalizer().fit_transform(l))\n",
        "print(Normalizer().fit_transform(l).mean())\n",
        "print(Normalizer().fit_transform(l).std())"
      ],
      "metadata": {
        "colab": {
          "base_uri": "https://localhost:8080/"
        },
        "id": "w3hxANrIbvdO",
        "outputId": "41dd011b-6a35-4234-e316-586e09e26b83"
      },
      "execution_count": 5,
      "outputs": [
        {
          "output_type": "stream",
          "name": "stdout",
          "text": [
            "[[0.8 0.2 0.4 0.4]\n",
            " [0.1 0.3 0.9 0.3]\n",
            " [0.5 0.7 0.5 0.1]]\n",
            "0.43333333333333335\n",
            "0.24944382578492946\n"
          ]
        }
      ]
    },
    {
      "cell_type": "code",
      "source": [
        "from sklearn.preprocessing import StandardScaler\n",
        "data = [[0, 0], [0, 0], [1, 1], [1, 1]]\n",
        "print(StandardScaler().fit_transform(data))\n",
        "print(StandardScaler().fit_transform(data).mean(axis=0))\n",
        "print(StandardScaler().fit_transform(data).std())"
      ],
      "metadata": {
        "colab": {
          "base_uri": "https://localhost:8080/"
        },
        "id": "5My8COBhbz8n",
        "outputId": "078627c4-09a2-4f45-dfa9-5361a72d2fb8"
      },
      "execution_count": 6,
      "outputs": [
        {
          "output_type": "stream",
          "name": "stdout",
          "text": [
            "[[-1. -1.]\n",
            " [-1. -1.]\n",
            " [ 1.  1.]\n",
            " [ 1.  1.]]\n",
            "[0. 0.]\n",
            "1.0\n"
          ]
        }
      ]
    }
  ]
}